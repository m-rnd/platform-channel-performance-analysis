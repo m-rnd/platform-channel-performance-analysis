{
 "cells": [
  {
   "cell_type": "code",
   "execution_count": null,
   "metadata": {},
   "outputs": [],
   "source": [
    "import pandas as pd\n",
    "import numpy as np\n",
    "import matplotlib.pyplot as plt\n",
    "import seaborn as sns\n",
    "\n",
    "pd.__version__"
   ]
  },
  {
   "cell_type": "markdown",
   "metadata": {},
   "source": [
    "# scroll performance analysis"
   ]
  },
  {
   "cell_type": "markdown",
   "metadata": {},
   "source": [
    "## define helper functions"
   ]
  },
  {
   "cell_type": "code",
   "execution_count": null,
   "metadata": {},
   "outputs": [],
   "source": [
    "def label_string(s: str):\n",
    "    return f\"{s[:5]}...{s[-5:]}\"\n",
    "\n",
    "def get_suffix(s: str):\n",
    "    return s.split(\"_\")[-1] #.rstrip(\"0\")\n",
    "\n",
    "def vertical_line(df, g, value: int, color):\n",
    "    for ax, col_name in zip(g.axes.flat, df[\"display_name\"].unique()):\n",
    "        subset = df[df[\"display_name\"] == col_name]\n",
    "        indices = subset[subset[\"time\"] == value][\"group_index\"].values\n",
    "        for index in indices:\n",
    "            ax.axvline(x=index, color=color, linestyle=\"--\", lw=1)\n",
    "\n",
    "def lineplot_group(df, col_wrap, height, ylim):\n",
    "    g = sns.FacetGrid(df[df[\"time\"] >= 0], col=\"display_name\", col_wrap=col_wrap, height=height, sharex=False, sharey=True)\n",
    "    g.map(sns.lineplot, \"group_index\", \"time\")\n",
    "    g.set(ylim=ylim)\n",
    "\n",
    "    vertical_line(df, g, -10, \"#AA00AA44\") # data loading\n",
    "    vertical_line(df, g, -20, \"#00AAAAAA\") # scroll event\n",
    "   \n",
    "    g.set_axis_labels(\"Frame\", \"Zeit in ms\")\n",
    "    g.set_titles(\"Renderzeit {col_name}\")\n",
    "    g.tight_layout()\n",
    "    plt.show()\n",
    "\n",
    "def filter(df, *patterns):\n",
    "    condition = df[\"name\"].str.contains(\"|\".join(patterns))\n",
    "    return df[condition]\n",
    "\n",
    "\n",
    "\n",
    "# outlier removal \n",
    "\n",
    "range = 0.01\n",
    "def remove_outliers_iqr(group):\n",
    "    q1 = group[\"time\"].quantile(range)\n",
    "    q3 = group[\"time\"].quantile(1-range)\n",
    "    iqr = q3 - q1\n",
    "    lower_bound = q1 - 3 * iqr\n",
    "    upper_bound = q3 + 3 * iqr\n",
    "    return group[(group[\"time\"] >= lower_bound) & (group[\"time\"] <= upper_bound) | (group[\"time\"] < 0)]"
   ]
  },
  {
   "cell_type": "markdown",
   "metadata": {},
   "source": [
    "## load raw measurements"
   ]
  },
  {
   "cell_type": "code",
   "execution_count": null,
   "metadata": {},
   "outputs": [],
   "source": [
    "experiments = map(\n",
    "lambda name: pd.read_csv(name),\n",
    "[\n",
    "    # \"ios/logs/csv/2023-11-09_scrollBenchmark.csv\",\n",
    "    #\"ios/logs/csv/2023-11-10_scrollBenchmarkSendMarkers.csv\",\n",
    "    #\"android/logs/csv/2023-11-10_scrollInfiniteFlutterPC.csv\", # infinite scroll without base64 image\n",
    "    \"android/logs/csv/2023-11-30_scroll.csv\", # final scroll\n",
    "    \"ios/logs/csv/2023-12-01_scroll.csv\", # final scroll\n",
    "    #\"ios/logs/csv/2023-11-10_scrollComplete.csv\", # every scroll test scroll without base64 image\n",
    "    #\"ios/logs/csv/2023-11-13_scrollManual.csv\", # infinite scroll (manual scroll) without base64 image\n",
    "])\n",
    "\n",
    "df = pd.concat(experiments, ignore_index=True)\n",
    "#df.name = df.name.map(get_suffix)\n",
    "df = df.groupby(\"name\").apply(remove_outliers_iqr).reset_index(drop=True)\n",
    "df.sort_values(\"name\")\n",
    "df\n",
    "\n",
    "df.style.format({\n",
    "    \"time\": \"{:,d}\",\n",
    "})\n",
    "\n",
    "pd.set_option(\"display.float_format\", lambda x: \"%.3f\" % x)"
   ]
  },
  {
   "cell_type": "code",
   "execution_count": null,
   "metadata": {},
   "outputs": [],
   "source": [
    "analysis_df = df[df[\"time\"] > 0]\n",
    "analysis_df.groupby([\"name\"]).describe()"
   ]
  },
  {
   "cell_type": "code",
   "execution_count": null,
   "metadata": {},
   "outputs": [],
   "source": [
    "#plot_df = df[(df[\"time\"] <= 12) & ((df[\"time\"] > 10) | (df[\"time\"] < 0))]\n",
    "plot_df = df\n",
    "plot_df[\"group_index\"] = plot_df.groupby(\"name\").cumcount()\n",
    "\n",
    "group_to_display_name = {\n",
    "    \"screenUpdate_T1a\": \"T1a: Android - Scroll\", \n",
    "    \"screenUpdate_T1b\": \"T1b: Android - InfiniteScroll\", \n",
    "    \"screenUpdate_T2a\": \"T2a: iOS - Scroll\", \n",
    "    \"screenUpdate_T2b\": \"T2b: iOS - InfiniteScroll\", \n",
    "    \"screenUpdate_T3a\": \"T3a: Android - Flutter Scroll\", \n",
    "    \"screenUpdate_T3b\": \"T3b: Android - Flutter InfiniteScroll\", \n",
    "    \"screenUpdate_T4a\": \"T4a: iOS - Flutter Scroll\", \n",
    "    \"screenUpdate_T4b\": \"T4b: iOS - Flutter InfiniteScroll\", \n",
    "    \"screenUpdate_T5a\": \"T5a: Android - Flutter Scroll Channel\", \n",
    "    \"screenUpdate_T5b\": \"T5b: Android - Flutter InfiniteScroll Channel\", \n",
    "    \"screenUpdate_T6a\": \"T6a: iOS - Flutter Scroll Channel\", \n",
    "    \"screenUpdate_T6b\": \"T6b: iOS - Flutter InfiniteScroll Channel\", \n",
    "    }\n",
    "plot_df[\"display_name\"] = plot_df[\"name\"].map(group_to_display_name)\n",
    "\n",
    "\n",
    "lineplot_group(filter(plot_df, \"T1a\", \"T3a\",\"T5a\"), 3, 5, (10, 25))\n",
    "\n",
    "lineplot_group(filter(plot_df, \"T1b\", \"T3b\",\"T5b\"), 3, 5, (10, 25))\n",
    "\n",
    "lineplot_group(filter(plot_df, \"T2a\", \"T4a\",\"T6a\"), 3, 5, (5, 30))\n",
    "\n",
    "lineplot_group(filter(plot_df, \"T2b\", \"T4b\",\"T6b\"), 3, 5, (5, 30))"
   ]
  }
 ],
 "metadata": {
  "kernelspec": {
   "display_name": "Python 3",
   "language": "python",
   "name": "python3"
  },
  "language_info": {
   "codemirror_mode": {
    "name": "ipython",
    "version": 3
   },
   "file_extension": ".py",
   "mimetype": "text/x-python",
   "name": "python",
   "nbconvert_exporter": "python",
   "pygments_lexer": "ipython3",
   "version": "3.10.12"
  }
 },
 "nbformat": 4,
 "nbformat_minor": 2
}
