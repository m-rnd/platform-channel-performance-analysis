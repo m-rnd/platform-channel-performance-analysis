{
 "cells": [
  {
   "cell_type": "code",
   "execution_count": null,
   "metadata": {},
   "outputs": [],
   "source": [
    "import pandas as pd\n",
    "import matplotlib.pyplot as plt\n",
    "import seaborn as sns\n",
    "import scipy\n",
    "from scipy.stats import pearsonr"
   ]
  },
  {
   "cell_type": "markdown",
   "metadata": {},
   "source": [
    "# heavy load test analysis"
   ]
  },
  {
   "cell_type": "markdown",
   "metadata": {},
   "source": [
    "## Define helper functions"
   ]
  },
  {
   "cell_type": "code",
   "execution_count": null,
   "metadata": {},
   "outputs": [],
   "source": [
    "def nano_to_ms(x):\n",
    "    return x/1000/1000\n",
    "\n",
    "def ms_to_nano(x):\n",
    "    return x*1000*1000\n",
    "\n",
    "def nano_to_micro(x):\n",
    "    return x/1000\n",
    "\n",
    "\n",
    "def label_string(s: str):\n",
    "    return f\"{s[:5]}...{s[-5:]}\"\n",
    "\n",
    "def get_suffix(s: str):\n",
    "    return s.split(\"_\")[-1] #.rstrip(\"0\")\n",
    "\n",
    "def filter(df, *patterns):\n",
    "    condition = df[\"name\"].str.contains(\"|\".join(patterns))\n",
    "    return df[condition]\n",
    "\n",
    "\n",
    "\n",
    "# outlier removal \n",
    "\n",
    "range = 0.01\n",
    "def remove_outliers_iqr(group):\n",
    "    q1 = group[\"time\"].quantile(range)\n",
    "    q3 = group[\"time\"].quantile(1-range)\n",
    "    iqr = q3 - q1\n",
    "    lower_bound = q1 - 3 * iqr\n",
    "    upper_bound = q3 + 3 * iqr\n",
    "    return group[(group[\"time\"] >= lower_bound) & (group[\"time\"] <= upper_bound)]\n",
    "\n",
    "# plotting\n",
    "\n",
    "def lineplot_group(df, col_wrap, height):\n",
    "    g = sns.FacetGrid(df, col=\"name\", col_wrap=col_wrap, height=height, sharex=False, sharey=False)\n",
    "    g.map(sns.lineplot, \"index\", \"time\")\n",
    "    g.set_axis_labels(\"Index of Time Entry\", \"Time in µs\")\n",
    "    g.set_titles(\"Line Plot for {col_name}\")\n",
    "    g.tight_layout()\n",
    "    plt.show()\n",
    "\n",
    "\n"
   ]
  },
  {
   "cell_type": "markdown",
   "metadata": {},
   "source": [
    "## load raw measurements"
   ]
  },
  {
   "cell_type": "code",
   "execution_count": null,
   "metadata": {},
   "outputs": [],
   "source": [
    "experiments = map(\n",
    "lambda name: pd.read_csv(name),\n",
    "[\n",
    "    #\"android/logs/csv/2023-11-03_heavyLoadStringFinal3.csv\",\n",
    "    \"android/logs/csv/2023-11-17_heavyLoadStringBinary2.csv\",\n",
    "    \"android/logs/csv/2023-11-03_heavyLoadHMFinal.csv\",\n",
    "    #\"ios/logs/csv/2023-11-03_heavyLoadStringFinal.csv\",\n",
    "    \"ios/logs/csv/2023-11-17_heavyLoadStringWithBinary2.csv\",\n",
    "    \"ios/logs/csv/2023-11-03_heavyLoadDictFinal.csv\",\n",
    "])\n",
    "\n",
    "df = pd.concat(experiments, ignore_index=True)\n",
    "df.time = df.time.map(nano_to_micro)\n",
    "df.name = df.name.map(get_suffix)\n",
    "df.sort_values(\"name\")\n",
    "df\n",
    "\n",
    "df.style.format({\n",
    "    \"time\": \"{:,d}\",\n",
    "})\n",
    "\n",
    "pd.set_option(\"display.float_format\", lambda x: \"%.3f\" % x)\n",
    "import locale\n",
    "locale.setlocale(locale.LC_NUMERIC, \"de_DE.UTF-8\")\n",
    "filter(df, \"T3\", \"T4\").groupby(\"name\").describe()"
   ]
  },
  {
   "cell_type": "markdown",
   "metadata": {},
   "source": [
    "## copy data and remove outliers"
   ]
  },
  {
   "cell_type": "code",
   "execution_count": null,
   "metadata": {},
   "outputs": [],
   "source": [
    "cleaned_df = df.groupby(\"name\").apply(remove_outliers_iqr).reset_index(drop=True)\n",
    "#cleaned_df.groupby(\"name\").describe()\n",
    "filter(cleaned_df, \"T3\", \"T4\").groupby(\"name\").describe()"
   ]
  },
  {
   "cell_type": "markdown",
   "metadata": {},
   "source": [
    "## visual comparison"
   ]
  },
  {
   "cell_type": "code",
   "execution_count": null,
   "metadata": {},
   "outputs": [],
   "source": [
    "lineplot_group(cleaned_df.reset_index(), 2, 10)\n",
    "\n"
   ]
  },
  {
   "cell_type": "code",
   "execution_count": null,
   "metadata": {},
   "outputs": [],
   "source": [
    "mean_df = cleaned_df.groupby(\"name\")[\"time\"].mean().reset_index().rename(columns={\"time\": \"mean\"})\n",
    "\n",
    "mean_df[\"group\"] = mean_df[\"name\"].str.extract(r\"(T\\d+[a-zA-Z])\")\n",
    "mean_df[\"complexity_index\"] = mean_df.groupby(\"group\").cumcount()\n",
    "mean_df[\"complexity\"] = mean_df[\"name\"].str.extract(r\"T\\d+[a-zA-Z](\\d+)\").astype(int)\n",
    "\n",
    "group_to_display_name = {\"T1a\": \"Android - StandardMessageCodec\", \"T1b\": \"Android - StringCodec\", \"T1c\": \"Android - BinaryCodec\", \"T1d\": \"Android - BinaryCodecDirect\", \"T2a\": \"iOS - StandardMessageCodec\", \"T2b\": \"iOS - StringCodec\", \"T2c\": \"iOS - BinaryCodec\", \"T3x\": \"Android - HashMap\", \"T4x\": \"iOS - Dictionary\"}\n",
    "mean_df[\"display_name\"] = mean_df[\"group\"].map(group_to_display_name)\n",
    "\n",
    "mean_df"
   ]
  },
  {
   "cell_type": "code",
   "execution_count": null,
   "metadata": {},
   "outputs": [],
   "source": [
    "palette = sns.color_palette()\n",
    "\n",
    "def lineplot(df, show_hlines: bool):\n",
    "    sns.set(style=\"whitegrid\")\n",
    "    fig, ax = plt.subplots(figsize=(5, 5))\n",
    " \n",
    "    i = 0\n",
    "    for _, group in df.groupby(\"display_name\"):\n",
    "        sns.regplot(x=\"complexity\", y=\"mean\", data=group.reset_index(), ax=ax, scatter=False, color=palette[i])\n",
    "        ax.lines[i].set_linestyle(\"dotted\")\n",
    "        i+=1\n",
    "\n",
    "    sns.lineplot(x=\"complexity\", y=\"mean\", hue=\"display_name\", data=df, marker=\"o\", ax=ax)\n",
    "    \n",
    "    #plt.title(\"Zeit vs. Komplexität der Tests\")\n",
    "    plt.xlabel(\"Komplexität\")\n",
    "    plt.ylabel(\"Zeit in µs\")\n",
    "    plt.grid(True)\n",
    "    if show_hlines:\n",
    "        plt.axhline(y=16_000, color=\"magenta\", linestyle=\"--\", label=f\"16ms für neue Frames (Android)\")\n",
    "        plt.axhline(y=5_000, color=\"teal\", linestyle=\"--\", label=f\"5ms für neue Frames (iOS)\")\n",
    "    plt.legend(title=\"Name\")\n",
    "\n",
    "    plt.show()\n",
    "\n",
    "\n",
    "\n",
    "lineplot((filter(mean_df, \"T1\").sort_values(\"display_name\")), False)\n",
    "lineplot((filter(mean_df, \"T2\").sort_values(\"display_name\")), False)\n",
    "lineplot((filter(mean_df, \"T3\", \"T4\")), True)\n",
    "\n"
   ]
  },
  {
   "cell_type": "code",
   "execution_count": null,
   "metadata": {},
   "outputs": [],
   "source": [
    "correlation_coefficients = mean_df.groupby(\"group\").apply(lambda group: pearsonr(group[\"mean\"], group[\"complexity\"])[0])\n",
    "\n",
    "print(correlation_coefficients)"
   ]
  }
 ],
 "metadata": {
  "kernelspec": {
   "display_name": "Python 3",
   "language": "python",
   "name": "python3"
  },
  "language_info": {
   "codemirror_mode": {
    "name": "ipython",
    "version": 3
   },
   "file_extension": ".py",
   "mimetype": "text/x-python",
   "name": "python",
   "nbconvert_exporter": "python",
   "pygments_lexer": "ipython3",
   "version": "3.10.12"
  },
  "orig_nbformat": 4
 },
 "nbformat": 4,
 "nbformat_minor": 2
}
