{
 "cells": [
  {
   "attachments": {},
   "cell_type": "markdown",
   "metadata": {},
   "source": [
    "# Filters performance logs out of an iOS log dump\n",
    "Log file aquired by recording with Console.app, CMD-A, CMD-C in the log list and CMD-V in a new text file inside /raw\n",
    "\n",
    "(!) filter logs in Console.app by searching for: `Process:PlatformChannelPerformance category:measure`\n",
    "\n",
    "\n",
    "\n"
   ]
  },
  {
   "cell_type": "code",
   "execution_count": 13,
   "metadata": {},
   "outputs": [],
   "source": [
    "from datetime import date\n",
    "\n",
    "# datetime object containing current date and time\n",
    "today = date.today()\n",
    "\n",
    "experiment = \"scroll\"\n",
    "trace_keyword = \"PlatformChannelPerformance\t\" # for XCode logs\n",
    "#trace_keyword = \"PlatformChannelPerformance\t\" # for Console.app logs\n",
    "#trace_keyword = \"screenUpdate\" #for XCode logs of scroll tests\n",
    "input_file_name = \"raw/2023-11-30-scroll.txt\"\n",
    "output_file_name = \"csv/{}_{}.csv\".format(today, experiment)\n",
    "headers = \"name,time\""
   ]
  },
  {
   "cell_type": "code",
   "execution_count": 14,
   "metadata": {},
   "outputs": [],
   "source": [
    "import re\n",
    "\n",
    "# open the input file for reading\n",
    "with open(input_file_name, 'r') as input_file:\n",
    "    # read in all lines from the input file\n",
    "    lines = input_file.readlines()\n",
    "\n",
    "# check if the line corresponds to a log output (either has the prefix included or is just a line without timestamp)\n",
    "def is_log(input_string):\n",
    "    return (trace_keyword in input_string) or ((not input_string[0].isdigit()) and (\"Test Suite\"  not in input_string) and (\"Test Case\"  not in input_string))\n",
    "\n",
    "# cut off everything before measure and the process id:, including the word itself\n",
    "def remove_prefix(input_string):\n",
    "    index = input_string.find(trace_keyword)\n",
    "    if index != -1:\n",
    "        return input_string[(index + len(trace_keyword)):]\n",
    "    return input_string\n",
    "\n",
    "# https://stackoverflow.com/a/59082116\n",
    "def replace_last_occurrence(input_string):\n",
    "    return ','.join(input_string.rsplit(':', 1))\n",
    "\n",
    "# filter input to just contain lines with the keyword\n",
    "filtered_lines = [line for line in lines if is_log(line)]\n",
    "\n",
    "# cut off everything before measure:, including the word itself\n",
    "formatted_lines = [remove_prefix(line) for line in filtered_lines]\n",
    "\n",
    "csv_lines = [replace_last_occurrence(line) for line in formatted_lines]\n",
    "\n",
    "# open the output file for writing\n",
    "with open(output_file_name, 'w') as output_file:\n",
    "    # write out the filtered lines to the output file\n",
    "    output_file.write(headers + \"\\n\")\n",
    "    output_file.writelines(csv_lines)\n"
   ]
  }
 ],
 "metadata": {
  "kernelspec": {
   "display_name": "Python 3 (ipykernel)",
   "language": "python",
   "name": "python3"
  },
  "language_info": {
   "codemirror_mode": {
    "name": "ipython",
    "version": 3
   },
   "file_extension": ".py",
   "mimetype": "text/x-python",
   "name": "python",
   "nbconvert_exporter": "python",
   "pygments_lexer": "ipython3",
   "version": "3.10.12"
  },
  "orig_nbformat": 4
 },
 "nbformat": 4,
 "nbformat_minor": 2
}
