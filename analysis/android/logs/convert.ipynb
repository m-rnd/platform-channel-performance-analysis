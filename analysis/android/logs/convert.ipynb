{
 "cells": [
  {
   "attachments": {},
   "cell_type": "markdown",
   "metadata": {},
   "source": [
    "# Filters performance logs out of an Android log file\n",
    "Log file aquired by `adb logcat  -T \"08-22 13:50:00.000\" -v time,printable measure:I *:S > \"2023-08-21-gp6.txt\"`\n",
    "\n",
    "https://developer.android.com/tools/logcat\n"
   ]
  },
  {
   "cell_type": "code",
   "execution_count": 13,
   "metadata": {},
   "outputs": [],
   "source": [
    "from datetime import date\n",
    "\n",
    "# datetime object containing current date and time\n",
    "today = date.today()\n",
    "\n",
    "experiment = \"scroll\"\n",
    "\n",
    "input_file_name = \"raw/2023-11-30-scroll.txt\"\n",
    "output_file_name = \"csv/{}_{}.csv\".format(today, experiment)\n",
    "trace_keyword = \"I/measure\" # for measuring benchmarks\n",
    "headers = \"name,time\""
   ]
  },
  {
   "cell_type": "code",
   "execution_count": 14,
   "metadata": {},
   "outputs": [],
   "source": [
    "import re\n",
    "\n",
    "# open the input file for reading\n",
    "with open(input_file_name, 'r') as input_file:\n",
    "    # read in all lines from the input file\n",
    "    lines = input_file.readlines()\n",
    "\n",
    "\n",
    "# cut off everything before measure and the process id:, including the word itself\n",
    "def convert_input_to_output(input_string):\n",
    "    pattern = rf'.*(\\): )'\n",
    "    match = re.search(pattern, input_string)\n",
    "    if match:\n",
    "        return match.group(0) + '\\n'\n",
    "    return None\n",
    "\n",
    "def extract_output(input_string):\n",
    "    index = input_string.find('): ')\n",
    "    if index != -1:\n",
    "        return input_string[index + 3:]\n",
    "    return None\n",
    "\n",
    "# https://stackoverflow.com/a/59082116\n",
    "def replace_last_occurrence(input_string):\n",
    "    return ','.join(input_string.rsplit(':', 1))\n",
    "\n",
    "# filter input to just contain lines with the \"measure: \" keyword\n",
    "filtered_lines = [line for line in lines if trace_keyword in line]\n",
    "\n",
    "# cut off everything before measure:, including the word itself\n",
    "formatted_lines = [extract_output(line) for line in filtered_lines]\n",
    "\n",
    "csv_lines = [replace_last_occurrence(line) for line in formatted_lines]\n",
    "\n",
    "# open the output file for writing\n",
    "with open(output_file_name, 'w') as output_file:\n",
    "    # write out the filtered lines to the output file\n",
    "    output_file.write(headers + \"\\n\")\n",
    "    output_file.writelines(csv_lines)\n"
   ]
  }
 ],
 "metadata": {
  "kernelspec": {
   "display_name": "Python 3 (ipykernel)",
   "language": "python",
   "name": "python3"
  },
  "language_info": {
   "codemirror_mode": {
    "name": "ipython",
    "version": 3
   },
   "file_extension": ".py",
   "mimetype": "text/x-python",
   "name": "python",
   "nbconvert_exporter": "python",
   "pygments_lexer": "ipython3",
   "version": "3.10.12"
  },
  "orig_nbformat": 4
 },
 "nbformat": 4,
 "nbformat_minor": 2
}
