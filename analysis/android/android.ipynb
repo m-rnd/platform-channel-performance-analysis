{
 "cells": [
  {
   "cell_type": "code",
   "execution_count": null,
   "metadata": {},
   "outputs": [],
   "source": [
    "import pandas as pd\n",
    "import numpy as np\n",
    "import matplotlib.pyplot as plt\n",
    "import matplotlib\n",
    "import seaborn as sns\n",
    "\n",
    "pd.__version__"
   ]
  },
  {
   "attachments": {},
   "cell_type": "markdown",
   "metadata": {},
   "source": [
    "# Define helper functions"
   ]
  },
  {
   "cell_type": "code",
   "execution_count": null,
   "metadata": {},
   "outputs": [],
   "source": [
    "def nano_to_ms(x):\n",
    "    return x/1000/1000\n",
    "\n",
    "def ms_to_nano(x):\n",
    "    return x*1000*1000\n",
    "\n",
    "def nano_to_micro(x):\n",
    "    return x/1000\n",
    "\n",
    "\n",
    "def label_string(s: str):\n",
    "    return f\"{s[:5]}...{s[-5:]}\"\n",
    "\n",
    "def get_suffix(s: str):\n",
    "    return s.split(\"_\")[-1]"
   ]
  },
  {
   "cell_type": "code",
   "execution_count": null,
   "metadata": {},
   "outputs": [],
   "source": [
    "from scipy.signal import find_peaks\n",
    "\n",
    "def boxplot_group(df, name):\n",
    "    g = sns.FacetGrid(df, col=\"name\", col_wrap=6, sharex=False, sharey=False)\n",
    "    g.map(sns.boxplot, \"time\")\n",
    "    g.set_titles(\"{col_name}\")\n",
    "    g.set_xlabels(\"Time in µs\")\n",
    "    g.set_ylabels(\"Name\")\n",
    "    plt.show()\n",
    "\n",
    "def boxplot(df, name):\n",
    "    sns.set(style=\"whitegrid\")\n",
    "    plt.figure(figsize=(10, 6))\n",
    "    sns.boxplot(x=\"name\", y=\"time\", data=df)\n",
    "    plt.title(name)\n",
    "    plt.xlabel(\"Complexity\")\n",
    "    plt.ylabel(\"Time in µs\")\n",
    "    plt.show()\n",
    "\n",
    "def kdeplot(df, bw_adjust: int):\n",
    "    g = sns.FacetGrid(df, col=\"name\", col_wrap=6, sharex=False, sharey=False)\n",
    "    g.map(sns.kdeplot, \"time\", color=\"b\", fill=True, bw_adjust=bw_adjust)\n",
    "    g.set_titles(\"{col_name}\")\n",
    "    g.set_xlabels(\"Time in µs\")\n",
    "    g.set_ylabels(\"Density\")\n",
    "    \n",
    "    # find local maxima, highlight them and color the graph red\n",
    "    for ax in g.axes.flat:\n",
    "\n",
    "         # Calculate the mean of the data for this facet\n",
    "        facet_data = df[df[\"name\"] == ax.get_title()].time\n",
    "\n",
    "        # Add a vertical line at the mean\n",
    "        ax.axvline(facet_data.mean(), color=\"red\", linestyle=\"--\", label=\"Mittelwert\")\n",
    "        ax.axvline(facet_data.median(), color=\"orange\", linestyle=\"--\", label=\"Median\")\n",
    "\n",
    "        \"\"\"for artist in ax.get_children():\n",
    "            if isinstance(artist, matplotlib.collections.PolyCollection):\n",
    "                kde_curve = artist.get_paths()[0].vertices\n",
    "                kde_x, kde_y = kde_curve[:, 0], kde_curve[:, 1]\n",
    "\n",
    "                peaks, _ = find_peaks(kde_y, prominence=0.001)\n",
    "                #if len(peaks) > 1:\n",
    "                    #artist.set_color('red')\n",
    "\n",
    "                ax.plot(kde_x[peaks], kde_y[peaks], 'ro', markersize=8)\"\"\"\n",
    "    plt.legend()\n",
    "    plt.show()\n",
    "\n",
    "\n",
    "def lineplot_group(df, col_wrap, height):\n",
    "    g = sns.FacetGrid(df, col=\"name\", col_wrap=col_wrap, height=height, sharex=False, sharey=False)\n",
    "    g.map(sns.lineplot, \"index\", \"time\")\n",
    "    g.set_axis_labels(\"Index of Time Entry\", \"Time in µs\")\n",
    "    g.set_titles(\"Line Plot for {col_name}\")\n",
    "    g.tight_layout()\n",
    "    plt.show()"
   ]
  },
  {
   "attachments": {},
   "cell_type": "markdown",
   "metadata": {},
   "source": [
    "# Load csv logging data"
   ]
  },
  {
   "cell_type": "code",
   "execution_count": null,
   "metadata": {},
   "outputs": [],
   "source": [
    "experiments = map(\n",
    "lambda name: pd.read_csv(\"logs/csv/\" + name),\n",
    "[\n",
    "    #\"2023-08-30_measuring_with_baseline_2_rename.csv\", # tests from clarke\n",
    "    \n",
    "    # \"2023-09-06_baseline.csv\", # baseline with measureRepeated\n",
    "     #\"2023-09-06_baselineLoop.csv\", # baseline with loop\n",
    "    # \"2023-09-06_baselineLoopMock.csv\", # baseline with loop and measuring in System.nanotime()\n",
    "    # \"2023-09-06_methodChannelFullLoop.csv\", # method channel benchmark from android side with loop (10000)\n",
    "     #\"2023-09-06_methodChannelFullLoop100.csv\", # method channel benchmark from android side with loop (100000)\n",
    "    # \"2023-09-11_microbenchmarkOutput.csv\", # baseline tests, but the measurements are taken from microbenchmark\n",
    "    # \"../../../ios/logs/csv/2023-09-18_MethodChannelFull.csv\" # XCTest MethodChannelFull\n",
    "\n",
    "      #\"../../../ios/logs/csv/2023-09-18_MethodChannel_cleared.csv\" # XCTest MethodChannelFull & Send without init and baseline\n",
    "\n",
    "        # \"2023-09-29_platformChannelFullWithGc.csv\"\n",
    "\n",
    "    #\"2023-09-06_methodChannelFull.csv\", # method channel benchmark from android side with measureRepeated\n",
    "    #\"2023-10-18_methodChannelFullHeavyLoad.csv\", # method channel benchmark with String of 10000 As from android side with measureRepeated\n",
    "    #\"2023-10-18_methodChannelFullHeavyLoad2.csv\", # method channel benchmark with String of 10000 As from android side with measureRepeated\n",
    "    #\"2023-10-18_methodChannelHeavyLoad.csv\", # method channel benchmark with String and Hashmap from android side with measureRepeated, on emulator\n",
    "\n",
    "    #\"2023-10-27_heavyLoad.csv\", # first implementation of actual use cases with different string lengths, with measure Block\n",
    "    #\"2023-10-27_heavyLoadLoop.csv\", # first implementation of actual use cases with different string lengths , with loop (hier kann man sehr gut die improvements von measure sehen)\n",
    "    #\"2023-10-27_heavyLoadLoopx10.csv\", # same as HeavyLoadLoop, but with factor 10\n",
    "\n",
    "\n",
    "    #\"../../../ios/logs/csv/2023-10-27_heavyLoad.csv\", # XCTest heavyLoad\n",
    "    \"../../../ios/logs/csv/2023-10-29_heavyLoadDict.csv\", # XCTest heavyLoad with dictionary (hashmap)\n",
    "    #\"../../../ios/logs/csv/2023-10-30_heavyLoadDictFromMeasure.csv\", # XCTest heavyLoad with dictionary (hashmap),only T3_2700, but the measurements are from the measure block\n",
    "    #\"../../../ios/logs/csv/2023-10-30_heavyLoadDict_onlyMeasure.csv\", # XCTest heavyLoad with dictionary (hashmap),only T3_2700, but the measurements are from the measure block and without the FFI measurement\n",
    "   # \"2023-10-12-manual-displayTimeMs.csv\"\n",
    "])\n",
    "\n",
    "df = pd.concat(experiments, ignore_index=True)\n",
    "df.time = df.time.map(nano_to_micro)\n",
    "df.name = df.name.map(get_suffix)\n",
    "df.sort_values(\"name\")\n",
    "df"
   ]
  },
  {
   "cell_type": "code",
   "execution_count": null,
   "metadata": {},
   "outputs": [],
   "source": [
    "window_size = 10  # Adjust the window size as needed\n",
    "result = df.groupby('name').apply(lambda x: x.groupby(np.arange(len(x)) // 10).mean())\n",
    "# Reset the index to create a DataFrame with 1000 entries\n",
    "# \n",
    "result.index = result.index.droplevel(-1)\n",
    "#result.reset_index( inplace=True)\n",
    "#df = result"
   ]
  },
  {
   "attachments": {},
   "cell_type": "markdown",
   "metadata": {},
   "source": [
    "# convert from ns to µs and output basic information"
   ]
  },
  {
   "cell_type": "code",
   "execution_count": null,
   "metadata": {},
   "outputs": [],
   "source": [
    "boxplot_group(df.sort_values(\"name\"), \"Box Plots of measurements by name\")\n",
    "df.groupby([\"name\"]).describe()\n"
   ]
  },
  {
   "attachments": {},
   "cell_type": "markdown",
   "metadata": {},
   "source": [
    "# Apply tests for normality"
   ]
  },
  {
   "cell_type": "code",
   "execution_count": null,
   "metadata": {},
   "outputs": [],
   "source": [
    "#https://stackoverflow.com/a/51928888\n",
    "from scipy.stats import anderson\n",
    "from scipy.stats import normaltest\n",
    "from scipy.stats import shapiro\n",
    "\n",
    "for group in df.groupby(\"name\").time.apply(lambda x: x.values):\n",
    "    #print(group)\n",
    "    #print(anderson(group))\n",
    "    #print(normaltest(group))\n",
    "    print(shapiro(group))"
   ]
  },
  {
   "attachments": {},
   "cell_type": "markdown",
   "metadata": {},
   "source": [
    "# Remove outliers"
   ]
  },
  {
   "cell_type": "code",
   "execution_count": null,
   "metadata": {},
   "outputs": [],
   "source": [
    "# remove outliers outside of two times the standard deviation\n",
    "# based on https://stackoverflow.com/questions/46245035/pandas-dataframe-remove-outliers\n",
    "# and https://stackoverflow.com/q/59806689\n",
    "range = 0.01\n",
    "\n",
    "def remove_outliers_2z(group):\n",
    "    mean = group[\"time\"].mean()\n",
    "    std_dev = group[\"time\"].std()\n",
    "    return group[(group[\"time\"]-mean).abs()<(2 * std_dev)]\n",
    "\n",
    "def remove_outliers_iqr(group):\n",
    "    q1 = group[\"time\"].quantile(range)\n",
    "    q3 = group[\"time\"].quantile(1-range)\n",
    "    iqr = q3 - q1\n",
    "    lower_bound = q1 - 3 * iqr\n",
    "    upper_bound = q3 + 3 * iqr\n",
    "    return group[(group[\"time\"] >= lower_bound) & (group[\"time\"] <= upper_bound)]\n",
    "\n",
    "def remove_outliers_iqr_rolling(group):\n",
    "    q1 = group[\"time\"].rolling(window=200).quantile(range)\n",
    "    q3 = group[\"time\"].rolling(window=200).quantile(1-range)\n",
    "    iqr = q3 - q1\n",
    "    lower_bound = q1 - 3 * iqr\n",
    "    upper_bound = q3 + 3 * iqr\n",
    "    return group[(group[\"time\"] >= lower_bound) & (group[\"time\"] <= upper_bound)]\n",
    "\n",
    "\n",
    "# Group by \"name\" and apply the remove_outliers function to each group\n",
    "cleaned_df = df.groupby(\"name\").apply(remove_outliers_iqr).reset_index(drop=True)\n",
    "\n",
    "\n",
    "# Create a box plot for each group and display them on the same chart\n",
    "boxplot_group(cleaned_df, \"Box Plots of cleaned measurements by name\")\n",
    "boxplot(cleaned_df, \"Box Plots of cleaned measurements by complexity\")\n",
    "cleaned_df.groupby(\"name\").describe()"
   ]
  },
  {
   "attachments": {},
   "cell_type": "markdown",
   "metadata": {},
   "source": [
    "# Apply tests for normality again"
   ]
  },
  {
   "cell_type": "code",
   "execution_count": null,
   "metadata": {},
   "outputs": [],
   "source": [
    "for measurement in cleaned_df.groupby(\"name\").time.apply(lambda x: x.values):\n",
    "    #print(measurement)\n",
    "    #print(anderson(measurement))\n",
    "    print(shapiro(measurement))"
   ]
  },
  {
   "attachments": {},
   "cell_type": "markdown",
   "metadata": {},
   "source": [
    "# visual comparison"
   ]
  },
  {
   "cell_type": "code",
   "execution_count": null,
   "metadata": {},
   "outputs": [],
   "source": [
    "kdeplot(df.sort_values(\"name\"), 1)\n",
    "kdeplot(cleaned_df.sort_values(\"name\"), 1)    \n",
    "\n",
    "\n",
    "def displot(df):\n",
    "    g = sns.FacetGrid(df, col=\"name\", col_wrap=6, sharex=False, sharey=False)\n",
    "    g.map(sns.histplot, \"time\", kde=True)\n",
    "    g.set_titles(\"{col_name}\")\n",
    "    g.set_xlabels(\"Time\")\n",
    "    g.set_ylabels(\"Density\")\n",
    "    plt.show()\n",
    "\n",
    "#displot(cleaned_df.sort_values(\"name\")) "
   ]
  },
  {
   "cell_type": "markdown",
   "metadata": {},
   "source": [
    "## time line of cleaned data"
   ]
  },
  {
   "cell_type": "code",
   "execution_count": null,
   "metadata": {},
   "outputs": [],
   "source": [
    "lineplot_group(cleaned_df.reset_index(), 2, 10)\n"
   ]
  }
 ],
 "metadata": {
  "kernelspec": {
   "display_name": "Python 3 (ipykernel)",
   "language": "python",
   "name": "python3"
  },
  "language_info": {
   "codemirror_mode": {
    "name": "ipython",
    "version": 3
   },
   "file_extension": ".py",
   "mimetype": "text/x-python",
   "name": "python",
   "nbconvert_exporter": "python",
   "pygments_lexer": "ipython3",
   "version": "3.10.12"
  },
  "orig_nbformat": 4
 },
 "nbformat": 4,
 "nbformat_minor": 2
}
