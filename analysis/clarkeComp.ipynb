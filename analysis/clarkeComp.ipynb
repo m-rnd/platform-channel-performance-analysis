{
 "cells": [
  {
   "cell_type": "code",
   "execution_count": null,
   "metadata": {},
   "outputs": [],
   "source": [
    "import pandas as pd\n",
    "import numpy as np\n",
    "import matplotlib.pyplot as plt\n",
    "import seaborn as sns\n",
    "\n",
    "pd.__version__"
   ]
  },
  {
   "cell_type": "markdown",
   "metadata": {},
   "source": [
    "# comparison of Clarkes measurements with my measurement strategy"
   ]
  },
  {
   "cell_type": "markdown",
   "metadata": {},
   "source": [
    "## Define helper functions"
   ]
  },
  {
   "cell_type": "code",
   "execution_count": null,
   "metadata": {},
   "outputs": [],
   "source": [
    "def nano_to_ms(x):\n",
    "    return x/1000/1000\n",
    "\n",
    "def ms_to_nano(x):\n",
    "    return x*1000*1000\n",
    "\n",
    "def nano_to_micro(x):\n",
    "    return x/1000\n",
    "\n",
    "\n",
    "def label_string(s: str):\n",
    "    return f\"{s[:5]}...{s[-5:]}\"\n",
    "\n",
    "def get_suffix(s: str):\n",
    "    return s.split(\"_\")[-1] #.rstrip(\"0\")\n",
    "\n",
    "def filter(df, *patterns):\n",
    "    condition = df[\"name\"].str.contains(\"|\".join(patterns))\n",
    "    return df[condition]\n",
    "\n",
    "\n",
    "\n",
    "# outlier removal \n",
    "\n",
    "range = 0.01\n",
    "def remove_outliers_iqr(group):\n",
    "    q1 = group[\"time\"].quantile(range)\n",
    "    q3 = group[\"time\"].quantile(1-range)\n",
    "    iqr = q3 - q1\n",
    "    lower_bound = q1 - 3 * iqr\n",
    "    upper_bound = q3 + 3 * iqr\n",
    "    return group[(group[\"time\"] >= lower_bound) & (group[\"time\"] <= upper_bound)]\n",
    "\n",
    "# plotting\n",
    "\n",
    "def boxplot(df, name):\n",
    "    sns.set(style=\"whitegrid\")\n",
    "    plt.figure(figsize=(5, 5))\n",
    "    sns.boxplot(x=\"name\", y=\"time\", data=df)\n",
    "    #plt.title(name)\n",
    "    plt.xlabel(\"Name des Tests\")\n",
    "    plt.ylabel(\"Zeit in µs\")\n",
    "    plt.xticks(rotation=45)\n",
    "    plt.show()\n",
    "\n",
    "def filter(df, *patterns):\n",
    "    condition = df[\"name\"].str.contains(\"|\".join(patterns))\n",
    "    return df[condition]\n",
    "\n",
    "def kdeplot(df, bw_adjust: int):\n",
    "    g = sns.FacetGrid(df, col=\"name\", col_wrap=6, sharex=False, sharey=False)\n",
    "    g.map(sns.kdeplot, \"time\", color=\"b\", fill=True, bw_adjust=bw_adjust)\n",
    "    g.set_titles(\"{col_name}\")\n",
    "    g.set_xlabels(\"Time in µs\")\n",
    "    g.set_ylabels(\"Density\")\n",
    "    \n",
    "    # find local maxima, highlight them and color the graph red\n",
    "    for ax in g.axes.flat:\n",
    "\n",
    "         # Calculate the mean of the data for this facet\n",
    "        facet_data = df[df[\"name\"] == ax.get_title()].time\n",
    "\n",
    "        # Add a vertical line at the mean\n",
    "        ax.axvline(facet_data.mean(), color=\"red\", linestyle=\"--\", label=\"Mittelwert\")\n",
    "        ax.axvline(facet_data.median(), color=\"orange\", linestyle=\"--\", label=\"Median\")\n",
    "    plt.legend()\n",
    "    plt.show()\n",
    "\n",
    "def lineplot_group(df, col_wrap, height):\n",
    "    g = sns.FacetGrid(df, col=\"name\", col_wrap=col_wrap, height=height, sharex=False, sharey=False)\n",
    "    g.map(sns.lineplot, \"index\", \"time\")\n",
    "    g.set_axis_labels(\"Index of Time Entry\", \"Time in µs\")\n",
    "    g.set_titles(\"Line Plot for {col_name}\")\n",
    "    g.tight_layout()\n",
    "    plt.show()\n",
    "\n",
    "\n"
   ]
  },
  {
   "cell_type": "markdown",
   "metadata": {},
   "source": [
    "## load raw measurements"
   ]
  },
  {
   "cell_type": "code",
   "execution_count": null,
   "metadata": {},
   "outputs": [],
   "source": [
    "experiments = map(\n",
    "lambda name: pd.read_csv(name),\n",
    "[\n",
    "    #\"android/logs/csv/2023-08-30_measuring_with_baseline_2_rename.csv\", # A2\n",
    "    \"android/logs/csv/2023-08-30_measuring_with_baseline copy.csv\", # A\n",
    "    \"ios/logs/csv/2023-08-30_measuring_with_baseline copy.csv\", # i \n",
    "])\n",
    "\n",
    "df = pd.concat(experiments, ignore_index=True)\n",
    "df.time = df.time.map(nano_to_micro)\n",
    "df.name = df.name.map(get_suffix)\n",
    "df.sort_values(\"name\")\n",
    "\n",
    "pd.set_option(\"display.float_format\", lambda x: \"%.3f\" % x)\n",
    "df.groupby([\"name\"]).describe()"
   ]
  },
  {
   "cell_type": "markdown",
   "metadata": {},
   "source": [
    "## copy data and remove outliers"
   ]
  },
  {
   "cell_type": "code",
   "execution_count": null,
   "metadata": {},
   "outputs": [],
   "source": [
    "cleaned_df = df.groupby(\"name\").apply(remove_outliers_iqr).reset_index(drop=True)\n",
    "cleaned_df.groupby(\"name\").describe()"
   ]
  },
  {
   "cell_type": "markdown",
   "metadata": {},
   "source": [
    "## visual comparison"
   ]
  },
  {
   "cell_type": "code",
   "execution_count": null,
   "metadata": {},
   "outputs": [],
   "source": [
    "lineplot_group(cleaned_df.reset_index(), 2, 10)\n",
    "boxplot(filter(df, \"\\[i\\]\").sort_values(\"name\"), \"Messungen von Clarkes Tests\")\n",
    "boxplot(filter(cleaned_df, \"\\[i\\]\"), \"Messungen von Clarkes Tests Korrektur der Ausreißer\")"
   ]
  },
  {
   "cell_type": "markdown",
   "metadata": {},
   "source": [
    "## comparison of individual results"
   ]
  },
  {
   "cell_type": "code",
   "execution_count": null,
   "metadata": {},
   "outputs": [],
   "source": [
    "def displot(df):\n",
    "    g = sns.FacetGrid(df, col=\"name\", col_wrap=3, sharex=False, sharey=False)\n",
    "    g.map(sns.histplot, \"time\", kde=True)\n",
    "    g.set_titles(\"{col_name}\")\n",
    "    g.set_xlabels(\"Time\")\n",
    "    g.set_ylabels(\"Density\")\n",
    "    plt.show()\n",
    "\n",
    "#displot(cleaned_df.sort_values(\"name\")) \n"
   ]
  },
  {
   "cell_type": "markdown",
   "metadata": {},
   "source": [
    "## plot medians of _all_ experiments in a line"
   ]
  },
  {
   "cell_type": "code",
   "execution_count": null,
   "metadata": {},
   "outputs": [],
   "source": [
    "mean_df = pd.read_csv(\"clarkeCompManualMean.csv\")\n",
    "\n",
    "\n",
    "\n"
   ]
  },
  {
   "cell_type": "code",
   "execution_count": null,
   "metadata": {},
   "outputs": [],
   "source": [
    "\n",
    "\n",
    "plt.figure(figsize=(10, 6))\n",
    "sns.set(style=\"whitegrid\")\n",
    "sns.lineplot(x=\"category\", y=\"mean\", hue=\"platform\", data=mean_df, marker=\"o\")\n",
    "\n",
    "#plt.title(\"Veränderung der Messergebnisse durch Änderungen am Messverfahren\")\n",
    "plt.xlabel(\"Änderungen am Messverfahren\")\n",
    "plt.ylabel(\"Zeit in µs\")\n",
    "plt.grid(True)\n",
    "#plt.axhline(y=16_000, color=\"red\", linestyle=\"--\", label=f\"16ms für neue Frames (Android)\")\n",
    "#plt.axhline(y=5_000, color=\"orange\", linestyle=\"--\", label=f\"5ms für neue Frames (iOS)\")\n",
    "plt.legend(title=\"Plattform\")\n",
    "\n",
    "\n",
    "plt.show()\n",
    "\n",
    "mean_df\n",
    "\n"
   ]
  }
 ],
 "metadata": {
  "kernelspec": {
   "display_name": "Python 3",
   "language": "python",
   "name": "python3"
  },
  "language_info": {
   "codemirror_mode": {
    "name": "ipython",
    "version": 3
   },
   "file_extension": ".py",
   "mimetype": "text/x-python",
   "name": "python",
   "nbconvert_exporter": "python",
   "pygments_lexer": "ipython3",
   "version": "3.10.12"
  },
  "orig_nbformat": 4
 },
 "nbformat": 4,
 "nbformat_minor": 2
}
